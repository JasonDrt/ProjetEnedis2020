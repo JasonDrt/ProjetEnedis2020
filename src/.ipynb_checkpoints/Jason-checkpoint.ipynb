{
 "cells": [
  {
   "cell_type": "code",
   "execution_count": 1,
   "metadata": {},
   "outputs": [],
   "source": [
    "import pandas as pd\n",
    "import numpy as np\n",
    "from bs4 import BeautifulSoup\n",
    "import requests\n",
    "import datetime\n",
    "import calendar\n",
    "from geopy.geocoders import Nominatim\n",
    "from staticmap import StaticMap, CircleMarker, Line\n",
    "import overpy"
   ]
  },
  {
   "cell_type": "markdown",
   "metadata": {},
   "source": [
    "## Fonctions"
   ]
  },
  {
   "cell_type": "code",
   "execution_count": 2,
   "metadata": {},
   "outputs": [],
   "source": [
    "def find_insee(city, postal):\n",
    "    insee = pd.read_csv('./../data/code_insee.csv', sep = ';')\n",
    "    code = insee[(insee['Commune'] == city.upper()) & (insee['Code Postal'] == str(postal))].values\n",
    "    assert len(code) > 0, \"Aucune commune ne correspond à cette recherche\"\n",
    "    if len(code) > 1:\n",
    "        for line in code:\n",
    "            print(line[2:5])\n",
    "        choice = int(input(\"Choisissez celui que vous voulez (entre 1 et \" + str(len(code)) + \", autre pour annuler)\"))\n",
    "        if choice not in set(range(1,len(code))):\n",
    "            print(\"Fonction annulée\")\n",
    "            return 0\n",
    "        code = code[choice - 1][0]\n",
    "    else:\n",
    "        code = code[0][0]\n",
    "    return code"
   ]
  },
  {
   "cell_type": "code",
   "execution_count": 3,
   "metadata": {},
   "outputs": [],
   "source": [
    "def get_meteo(city, day):\n",
    "    code = find_insee(city)\n",
    "    if code == 0:\n",
    "        return 0\n",
    "    lieu_type = 'VILLE_FRANCE'\n",
    "    \n",
    "    url = \"http://www.meteofrance.com/climat/meteo-date-passee?lieuId=\" + code + \"0&lieuType=\" + lieu_type + \"&date=\" + day\n",
    "    \n",
    "    page = requests.get(url)\n",
    "    assert page.status_code == 200, \"Error loading the webpage\"\n",
    "    \n",
    "    today = datetime.date.today()\n",
    "    day = datetime.datetime.strptime(day, '%d-%m-%Y').date()\n",
    "    limite = datetime.datetime.strptime('01-01-1963', '%d-%m-%Y').date()\n",
    "    assert day < today and day > limite, \"Wrong date (Need between 01-01-1963 and \" + datetime.date.today().strftime('%d-%m-%Y') + \")\"\n",
    "    \n",
    "    soup = BeautifulSoup(page.content, 'html.parser')\n",
    "    liste_info_journee = soup.find_all('ul', class_='grid-half')\n",
    "#     liste_horaires = soup.find_all('div', class_=\"grid-half echeances\")\n",
    "    \n",
    "    if liste_info_journee:\n",
    "        liste_info_journee = liste_info_journee[0].find_all('li')\n",
    "#     if liste_horaires:\n",
    "#         liste_horaires = liste_horaires[0].find_all('dl')\n",
    "    \n",
    "    res = liste_info_journee # + liste_horaires\n",
    "#     for i in res:\n",
    "#         print(i.get_text().strip())\n",
    "    dic = {}\n",
    "    for result in res:\n",
    "        kv = result.get_text().split(':')\n",
    "        key = kv[0].strip()\n",
    "        value = kv[1].strip()\n",
    "        tokeep = ''\n",
    "        for i in value:\n",
    "            if i.isdigit() or i == '.':\n",
    "                tokeep += i\n",
    "        dic[key] = float(tokeep)\n",
    "    return dic"
   ]
  },
  {
   "cell_type": "code",
   "execution_count": 4,
   "metadata": {},
   "outputs": [],
   "source": [
    "def get_meteo_monthly(city, month, year):\n",
    "    nb_days = calendar.monthrange(year, month)[1]\n",
    "    mean_d = {}\n",
    "    list_min_temp = []\n",
    "    list_max_temp = []\n",
    "    list_soleil = []\n",
    "    list_pluie = []\n",
    "    for day in range(1, nb_days + 1):\n",
    "        date = str(day) + '-' + str(month) + '-' + str(year)\n",
    "        d = get_meteo(city, date)\n",
    "        \n",
    "        list_min_temp.append(d['Température minimale de la journée'])\n",
    "        list_max_temp.append(d['Température maximale de la journée'])\n",
    "        list_soleil.append(d[\"Durée d'ensoleillement de la journée\"])\n",
    "        list_pluie.append(d['Hauteur des précipitations'])\n",
    "        \n",
    "    mean_d['Température maximale du mois'] = max(list_max_temp)\n",
    "    mean_d['Température minimale du mois'] = min(list_min_temp)\n",
    "    mean_d['Température minimale moyenne'] = sum(list_min_temp) / len(list_min_temp)\n",
    "    mean_d['Température maximale moyenne'] = sum(list_max_temp) / len(list_max_temp)\n",
    "\n",
    "    mean_d['Hauteur minimale des précipitations'] = min(list_pluie)\n",
    "    mean_d['Hauteur maximale des précipitations'] = max(list_pluie)\n",
    "    mean_d['Hauteur moyenne des précipitations'] = sum(list_pluie) / len(list_pluie)\n",
    "    \n",
    "    mean_d[\"Durée maximale d'ensoleillement\"] = max(list_soleil)\n",
    "    mean_d[\"Durée minimale d'ensoleillement\"] = min(list_soleil)\n",
    "    mean_d[\"Durée d'ensoleillement moyenne\"] = sum(list_soleil) / len(list_soleil)\n",
    "\n",
    "    return mean_d"
   ]
  },
  {
   "cell_type": "code",
   "execution_count": 5,
   "metadata": {},
   "outputs": [],
   "source": [
    "def get_city(lat, lon):\n",
    "    nominatim = Nominatim(user_agent = 'my-application')\n",
    "    r = nominatim.reverse(str(lat) + ',' + str(lon))\n",
    "    return r.raw['address']"
   ]
  },
  {
   "cell_type": "code",
   "execution_count": 21,
   "metadata": {},
   "outputs": [],
   "source": [
    "def get_plan(lat, lon):\n",
    "    coord = (lon, lat)\n",
    "    m = StaticMap(200, 400, url_template = \"http://c.tiles.wmflabs.org/osm-no-labels/{z}/{x}/{y}.png\")\n",
    "    marker = CircleMarker(coord, 'red', 5) #longitude, latitude\n",
    "    m.add_marker(marker)\n",
    "    return m"
   ]
  },
  {
   "cell_type": "code",
   "execution_count": 24,
   "metadata": {},
   "outputs": [],
   "source": [
    "def search_around(lat, lon, tag, dist):\n",
    "    api = overpy.Overpass()\n",
    "    q = \"\"\"\n",
    "        (\n",
    "        node(around:{0},{1},{2})[\"{3}\"];\n",
    "        way(around:{0},{1},{2})[\"{3}\"];\n",
    "        rel(around:{0},{1},{2})[\"{3}\"];\n",
    "        area(around:{0},{1},{2})[\"{3}\"];\n",
    "        );\n",
    "        out;\n",
    "        \"\"\"\n",
    "    q = q.format(dist, lat, lon, tag)\n",
    "    r = api.query(q)\n",
    "    return r"
   ]
  },
  {
   "cell_type": "code",
   "execution_count": 6,
   "metadata": {},
   "outputs": [
    {
     "data": {
      "text/plain": [
       "{'Température minimale de la journée': 4.7,\n",
       " 'Température maximale de la journée': 22.3,\n",
       " \"Durée d'ensoleillement de la journée\": 7.0,\n",
       " 'Hauteur des précipitations': 0.4}"
      ]
     },
     "execution_count": 6,
     "metadata": {},
     "output_type": "execute_result"
    }
   ],
   "source": [
    "get_meteo('Toulouse', '07-05-2019')"
   ]
  },
  {
   "cell_type": "code",
   "execution_count": 7,
   "metadata": {},
   "outputs": [
    {
     "data": {
      "text/plain": [
       "{'Température maximale du mois': 26.2,\n",
       " 'Température minimale du mois': 7.0,\n",
       " 'Température minimale moyenne': 13.764516129032259,\n",
       " 'Température maximale moyenne': 21.603225806451615,\n",
       " 'Hauteur minimale des précipitations': 0.0,\n",
       " 'Hauteur maximale des précipitations': 68.6,\n",
       " 'Hauteur moyenne des précipitations': 2.8064516129032264,\n",
       " \"Durée maximale d'ensoleillement\": 11.0,\n",
       " \"Durée minimale d'ensoleillement\": 0.0,\n",
       " \"Durée d'ensoleillement moyenne\": 5.161290322580645}"
      ]
     },
     "execution_count": 7,
     "metadata": {},
     "output_type": "execute_result"
    }
   ],
   "source": [
    "get_meteo_monthly('toulouse', 10, 2006)"
   ]
  },
  {
   "cell_type": "code",
   "execution_count": 8,
   "metadata": {},
   "outputs": [
    {
     "data": {
      "text/plain": [
       "{'place': \"Rond de l'Âne\",\n",
       " 'village': 'Ambillou',\n",
       " 'municipality': 'Chinon',\n",
       " 'county': 'Indre-et-Loire',\n",
       " 'state': 'Centre-Val de Loire',\n",
       " 'country': 'France',\n",
       " 'postcode': '37340',\n",
       " 'country_code': 'fr'}"
      ]
     },
     "execution_count": 8,
     "metadata": {},
     "output_type": "execute_result"
    }
   ],
   "source": [
    "get_city(47.47, 0.5)"
   ]
  },
  {
   "cell_type": "code",
   "execution_count": 13,
   "metadata": {},
   "outputs": [
    {
     "data": {
      "text/plain": [
       "'37002'"
      ]
     },
     "execution_count": 13,
     "metadata": {},
     "output_type": "execute_result"
    }
   ],
   "source": [
    "find_insee('Ambillou', '37340')"
   ]
  },
  {
   "cell_type": "code",
   "execution_count": 22,
   "metadata": {},
   "outputs": [
    {
     "data": {
      "image/png": "[encoded data removed]",
      "text/plain": [
       "<PIL.Image.Image image mode=RGB size=200x400 at 0x22B965FA710>"
      ]
     },
     "execution_count": 22,
     "metadata": {},
     "output_type": "execute_result"
    }
   ],
   "source": [
    "get_plan(47.47, 0.5).render(zoom = 20)"
   ]
  },
  {
   "cell_type": "code",
   "execution_count": 25,
   "metadata": {},
   "outputs": [],
   "source": [
    "a = search_around(47.47, 0.5, \"natural\", 100)"
   ]
  },
  {
   "cell_type": "code",
   "execution_count": 26,
   "metadata": {},
   "outputs": [
    {
     "name": "stdout",
     "output_type": "stream",
     "text": [
      "[]\n",
      "[<overpy.Way id=538723864 nodes=[5214003253, 5214003252, 5214003251, 5214003250, 5214003249, 5214003248, 5214003247, 5214003246, 5214003245, 5214003244, 5214003253]>, <overpy.Way id=538723865 nodes=[5214003261, 5214003260, 5214003259, 5214003258, 5214003257, 5214003256, 5214003255, 5214003254, 5214003261]>]\n",
      "[]\n",
      "[]\n"
     ]
    }
   ],
   "source": [
    "print(a.nodes)\n",
    "print(a.ways)\n",
    "print(a.relations)\n",
    "print(a.areas)"
   ]
  },
  {
   "cell_type": "code",
   "execution_count": 18,
   "metadata": {},
   "outputs": [
    {
     "name": "stdout",
     "output_type": "stream",
     "text": [
      "{'natural': 'water'}\n",
      "{'natural': 'water'}\n"
     ]
    }
   ],
   "source": [
    "for i in a.ways:\n",
    "    print(i.tags)"
   ]
  },
  {
   "cell_type": "code",
   "execution_count": 32,
   "metadata": {},
   "outputs": [],
   "source": [
    "b = search_around(47.47, 0.5, \"landuse\", 50)"
   ]
  },
  {
   "cell_type": "code",
   "execution_count": 33,
   "metadata": {},
   "outputs": [
    {
     "name": "stdout",
     "output_type": "stream",
     "text": [
      "[]\n",
      "[<overpy.Way id=487760973 nodes=[7239149605, 1457643888, 7239149615, 7239149614, 518104425, 7239149613, 7239149612, 518104424, 518104423, 7239149611, 7239149610, 7239149609, 7239149608, 7239149607, 518104422, 7239149621, 7239149620, 7239149618, 7239149616, 7239149617, 7239149619, 7239149627, 7239149626, 7239149625, 7239149624, 7239149623, 7239149622, 518104420, 1457643572, 1457643580, 1457643596, 1457643600, 1457643636, 1457643781, 1457643875, 1457643898, 1457643916, 1457643949, 1457644059, 1457644071, 1457644086, 1457644096, 1457644123, 1457644114, 1457644149, 1457644159, 1457644170, 1457644186, 1457644196, 1457644205, 1457644207, 1457644208, 1457644224, 1457644230, 1457644235, 1457644243, 518104439, 518104437, 518104433, 518104431, 518104430, 7239149603, 518104428, 518104427, 1457644132, 1457644078, 1457644038, 1457644013, 1457643994, 518104426, 7239149604, 7239149606, 513644607, 1457668016, 1457668013, 513644605, 513644604, 513644374, 1457666895, 1457666886, 513644373, 1457666828, 513644372, 1457666855, 1457666845, 513644371, 513644370, 513644369, 513644368, 513644367, 1457666814, 1457666820, 1457666832, 1457666867, 513644366, 513644365, 513644364, 1457667983, 513644363, 518104012, 518104008, 518104006, 518104004, 518104003, 518104002, 518104001, 518104000, 518103999, 518103998, 518103997, 518103993, 518103991, 518103989, 518103988, 518103986, 518103981, 518103979, 518103977, 518103975, 518103974, 518103970, 513644351, 513644416, 513644415, 522953204, 522953205, 522953207, 522953210, 522953211, 522953213, 522953214, 522953215, 522953217, 522953218, 522953220, 522953222, 522953223, 522953225, 522953226, 522953228, 522953230, 522953231, 522953232, 522953233, 522953234, 522953236, 522953237, 522953238, 522953239, 522953240, 522953241, 522953242, 522953243, 522953244, 522953246, 522953247, 522953248, 522953249, 522953250, 522953251, 522953252, 522953253, 522953254, 522953256, 522953257, 1097193720, 522953258, 518102186, 518102184, 518102181, 518102170, 518102168, 518102167, 5362852652, 5362852653, 5362852654, 5362852655, 7239148950, 5362852651, 518104472, 1457644227, 1457644206, 518104470, 1457644027, 1457644042, 1457644030, 1457644020, 1457644002, 1457643986, 1457643977, 1457643971, 1457643968, 518104466, 1457643959, 1457643936, 1457643910, 1457643893, 1457643858, 1457643819, 1457643752, 1457643699, 1457643626, 1457643614, 1457643589, 1457643561, 1457643550, 1457643524, 1457643517, 1457643535, 1457643553, 1457643532, 1457643505, 518104418, 518104416, 518104415, 518104413, 518104411, 518104407, 517015299, 7239149669, 517015298, 517015297, 517015296, 517015295, 517015294, 517015293, 517015292, 517015291, 513644628, 513644627, 513644626, 513644625, 513644624, 513644623, 513644621, 513644620, 513644619, 513644617, 513644616, 513644615, 513644614, 513644613, 513644612, 513644611, 513644610, 513644609, 513644608, 7239149605]>, <overpy.Way id=775975264 nodes=[1457644078, 1457644038, 1457644013, 1457643994, 518104426, 7239149604, 1457643888, 7239149615, 7239149614, 518104425, 7239149613, 7239149612, 518104424, 518104423, 7239149611, 7239149610, 7239149609, 7239149608, 7239149607, 518104422, 7239149621, 7239149620, 7239149618, 7239149616, 7239149617, 7239149619, 7239149627, 7239149626, 7239149625, 7239149624, 7239149623, 7239149622, 518104420, 1457643572, 1457643580, 1457643596, 1457643600, 1457643636, 1457643781, 1457643875, 1457643898, 1457643916, 1457643949, 1457644059, 1457644071, 1457644086, 1457644096, 1457644123, 1457644114, 1457644149, 1457644159, 1457644170, 1457644186, 1457644196, 1457644205, 1457644207, 1457644208, 1457644224, 1457644230, 1457644235, 1457644243, 518104439, 518104437, 518104433, 518104431, 7239149596, 7239149594, 7239149593, 7239149595, 7239149597, 7239149598, 7239149599, 7239149600, 7239149601, 7239149602, 1457644078]>]\n",
      "[]\n",
      "[]\n"
     ]
    }
   ],
   "source": [
    "print(b.nodes)\n",
    "print(b.ways)\n",
    "print(b.relations)\n",
    "print(b.areas)"
   ]
  },
  {
   "cell_type": "code",
   "execution_count": 34,
   "metadata": {},
   "outputs": [
    {
     "name": "stdout",
     "output_type": "stream",
     "text": [
      "{'landuse': 'forest'}\n",
      "{'landuse': 'grass'}\n"
     ]
    }
   ],
   "source": [
    "for way in b.ways:\n",
    "    print(way.tags)"
   ]
  },
  {
   "cell_type": "code",
   "execution_count": null,
   "metadata": {},
   "outputs": [],
   "source": []
  }
 ],
 "metadata": {
  "kernelspec": {
   "display_name": "Python 3",
   "language": "python",
   "name": "python3"
  },
  "language_info": {
   "codemirror_mode": {
    "name": "ipython",
    "version": 3
   },
   "file_extension": ".py",
   "mimetype": "text/x-python",
   "name": "python",
   "nbconvert_exporter": "python",
   "pygments_lexer": "ipython3",
   "version": "3.7.1"
  }
 },
 "nbformat": 4,
 "nbformat_minor": 2
}
