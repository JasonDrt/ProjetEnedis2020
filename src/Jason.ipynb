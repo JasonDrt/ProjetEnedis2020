{
 "cells": [
  {
   "cell_type": "code",
   "execution_count": 1,
   "metadata": {},
   "outputs": [],
   "source": [
    "import pandas as pd\n",
    "import numpy as np\n",
    "from bs4 import BeautifulSoup\n",
    "import requests\n",
    "from selenium import webdriver\n",
    "import time\n",
    "import datetime\n",
    "import calendar"
   ]
  },
  {
   "cell_type": "markdown",
   "metadata": {},
   "source": [
    "## Fonctions"
   ]
  },
  {
   "cell_type": "code",
   "execution_count": 2,
   "metadata": {},
   "outputs": [],
   "source": [
    "def find_insee(city):\n",
    "    insee = pd.read_csv('./../data/code_insee.csv', sep = ';')\n",
    "    code = insee[insee['Commune'] == city.upper()].values\n",
    "    assert len(code) > 0, \"Le nom de la commune est mal écrit\"\n",
    "    if len(code) > 1:\n",
    "        for line in code:\n",
    "            print(line[2:5])\n",
    "        choice = int(input(\"Choisissez celui que vous voulez (entre 1 et \" + str(len(code)) + \", autre pour annuler)\"))\n",
    "        if choice not in set(range(1,len(code))):\n",
    "            print(\"Fonction annulée\")\n",
    "            return 0\n",
    "        code = code[choice - 1][0]\n",
    "    else:\n",
    "        code = code[0][0]\n",
    "    return code"
   ]
  },
  {
   "cell_type": "code",
   "execution_count": 6,
   "metadata": {},
   "outputs": [],
   "source": [
    "def get_meteo(city, day):\n",
    "    code = find_insee(city)\n",
    "    if code == 0:\n",
    "        return 0\n",
    "    lieu_type = 'VILLE_FRANCE'\n",
    "    \n",
    "    url = \"http://www.meteofrance.com/climat/meteo-date-passee?lieuId=\" + code + \"0&lieuType=\" + lieu_type + \"&date=\" + day\n",
    "    \n",
    "    page = requests.get(url)\n",
    "    assert page.status_code == 200, \"Error loading the webpage\"\n",
    "    \n",
    "    today = datetime.date.today()\n",
    "    day = datetime.datetime.strptime(day, '%d-%m-%Y').date()\n",
    "    limite = datetime.datetime.strptime('01-01-1963', '%d-%m-%Y').date()\n",
    "    assert day < today and day > limite, \"Wrong date (Need between 01-01-1963 and \" + datetime.date.today().strftime('%d-%m-%Y') + \")\"\n",
    "    \n",
    "    soup = BeautifulSoup(page.content, 'html.parser')\n",
    "    liste_info_journee = soup.find_all('ul', class_='grid-half')\n",
    "#     liste_horaires = soup.find_all('div', class_=\"grid-half echeances\")\n",
    "    \n",
    "    if liste_info_journee:\n",
    "        liste_info_journee = liste_info_journee[0].find_all('li')\n",
    "#     if liste_horaires:\n",
    "#         liste_horaires = liste_horaires[0].find_all('dl')\n",
    "    \n",
    "    res = liste_info_journee # + liste_horaires\n",
    "#     for i in res:\n",
    "#         print(i.get_text().strip())\n",
    "    dic = {}\n",
    "    for result in res:\n",
    "        kv = result.get_text().split(':')\n",
    "        key = kv[0].strip()\n",
    "        value = kv[1].strip()\n",
    "        tokeep = ''\n",
    "        for i in value:\n",
    "            if i.isdigit() or i == '.':\n",
    "                tokeep += i\n",
    "        dic[key] = float(tokeep)\n",
    "    return dic"
   ]
  },
  {
   "cell_type": "code",
   "execution_count": 4,
   "metadata": {},
   "outputs": [],
   "source": [
    "def get_meteo_monthly(city, month, year):\n",
    "    nb_days = calendar.monthrange(year, month)[1]\n",
    "    mean_d = {}\n",
    "    list_min_temp = []\n",
    "    list_max_temp = []\n",
    "    list_soleil = []\n",
    "    list_pluie = []\n",
    "    for day in range(1, nb_days + 1):\n",
    "        date = str(day) + '-' + str(month) + '-' + str(year)\n",
    "        d = get_meteo(city, date)\n",
    "        \n",
    "        list_min_temp.append(d['Température minimale de la journée'])\n",
    "        list_max_temp.append(d['Température maximale de la journée'])\n",
    "        list_soleil.append(d[\"Durée d'ensoleillement de la journée\"])\n",
    "        list_pluie.append(d['Hauteur des précipitations'])\n",
    "        \n",
    "    mean_d['Température maximale du mois'] = max(list_max_temp)\n",
    "    mean_d['Température minimale du mois'] = min(list_min_temp)\n",
    "    mean_d['Température minimale moyenne'] = sum(list_min_temp) / len(list_min_temp)\n",
    "    mean_d['Température maximale moyenne'] = sum(list_max_temp) / len(list_max_temp)\n",
    "\n",
    "    mean_d['Hauteur minimale des précipitations'] = min(list_pluie)\n",
    "    mean_d['Hauteur maximale des précipitations'] = max(list_pluie)\n",
    "    mean_d['Hauteur moyenne des précipitations'] = sum(list_pluie) / len(list_pluie)\n",
    "    \n",
    "    mean_d[\"Durée maximale d'ensoleillement\"] = max(list_soleil)\n",
    "    mean_d[\"Durée minimale d'ensoleillement\"] = min(list_soleil)\n",
    "    mean_d[\"Durée d'ensoleillement moyenne\"] = sum(list_soleil) / len(list_soleil)\n",
    "\n",
    "    return mean_d"
   ]
  },
  {
   "cell_type": "code",
   "execution_count": 7,
   "metadata": {},
   "outputs": [
    {
     "data": {
      "text/plain": [
       "{'Température minimale de la journée': 4.7,\n",
       " 'Température maximale de la journée': 22.3,\n",
       " \"Durée d'ensoleillement de la journée\": 7.0,\n",
       " 'Hauteur des précipitations': 0.4}"
      ]
     },
     "execution_count": 7,
     "metadata": {},
     "output_type": "execute_result"
    }
   ],
   "source": [
    "get_meteo('Toulouse', '07-05-2019')"
   ]
  },
  {
   "cell_type": "code",
   "execution_count": 8,
   "metadata": {},
   "outputs": [
    {
     "data": {
      "text/plain": [
       "{'Température maximale du mois': 26.2,\n",
       " 'Température minimale du mois': 7.0,\n",
       " 'Température minimale moyenne': 13.764516129032259,\n",
       " 'Température maximale moyenne': 21.603225806451615,\n",
       " 'Hauteur minimale des précipitations': 0.0,\n",
       " 'Hauteur maximale des précipitations': 68.6,\n",
       " 'Hauteur moyenne des précipitations': 2.8064516129032264,\n",
       " \"Durée maximale d'ensoleillement\": 11.0,\n",
       " \"Durée minimale d'ensoleillement\": 0.0,\n",
       " \"Durée d'ensoleillement moyenne\": 5.161290322580645}"
      ]
     },
     "execution_count": 8,
     "metadata": {},
     "output_type": "execute_result"
    }
   ],
   "source": [
    "get_meteo_monthly('toulouse', 10, 2006)"
   ]
  },
  {
   "cell_type": "code",
   "execution_count": null,
   "metadata": {},
   "outputs": [],
   "source": []
  }
 ],
 "metadata": {
  "kernelspec": {
   "display_name": "Python 3",
   "language": "python",
   "name": "python3"
  },
  "language_info": {
   "codemirror_mode": {
    "name": "ipython",
    "version": 3
   },
   "file_extension": ".py",
   "mimetype": "text/x-python",
   "name": "python",
   "nbconvert_exporter": "python",
   "pygments_lexer": "ipython3",
   "version": "3.7.1"
  }
 },
 "nbformat": 4,
 "nbformat_minor": 2
}
