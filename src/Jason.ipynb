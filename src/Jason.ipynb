{
 "cells": [
  {
   "cell_type": "code",
   "execution_count": 5,
   "metadata": {},
   "outputs": [],
   "source": [
    "import pandas as pd\n",
    "import numpy as np\n",
    "from bs4 import BeautifulSoup\n",
    "import requests\n",
    "from selenium import webdriver\n",
    "import time\n",
    "import datetime"
   ]
  },
  {
   "cell_type": "markdown",
   "metadata": {},
   "source": [
    "## Fonctions"
   ]
  },
  {
   "cell_type": "code",
   "execution_count": 7,
   "metadata": {},
   "outputs": [],
   "source": [
    "def find_insee(city):\n",
    "    insee = pd.read_csv('./../data/code_insee.csv', sep = ';')\n",
    "    code = insee[insee['Commune'] == city.upper()].values\n",
    "    assert len(code) > 0, \"Le nom de la commune est mal écrit\"\n",
    "    if len(code) > 1:\n",
    "        for line in code:\n",
    "            print(line[2:5])\n",
    "        choice = int(input(\"Choisissez celui que vous voulez (entre 1 et \" + str(len(code)) + \", autre pour annuler)\"))\n",
    "        if choice not in set(range(1,len(code))):\n",
    "            print(\"Fonction annulée\")\n",
    "            return 0\n",
    "        code = code[choice - 1][0]\n",
    "    else:\n",
    "        code = code[0][0]\n",
    "    return code"
   ]
  },
  {
   "cell_type": "code",
   "execution_count": 8,
   "metadata": {},
   "outputs": [],
   "source": [
    "def get_meteo(city, day):\n",
    "    code = find_insee(city)\n",
    "    if code == 0:\n",
    "        return 0\n",
    "    lieu_type = 'VILLE_FRANCE'\n",
    "    \n",
    "    url = \"http://www.meteofrance.com/climat/meteo-date-passee?lieuId=\" + code + \"0&lieuType=\" + lieu_type + \"&date=\" + day\n",
    "    \n",
    "    page = requests.get(url)\n",
    "    assert page.status_code == 200, \"Error loading the webpage\"\n",
    "    \n",
    "    today = datetime.date.today()\n",
    "    day = datetime.datetime.strptime(day, '%d-%m-%Y').date()\n",
    "    limite = datetime.datetime.strptime('01-01-1963', '%d-%m-%Y').date()\n",
    "    assert day < today and day > limite, \"Wrong date (Need between 01-01-1963 and \" + datetime.date.today().strftime('%d-%m-%Y') + \")\"\n",
    "    \n",
    "    soup = BeautifulSoup(page.content, 'html.parser')\n",
    "    liste_info_journee = soup.find_all('ul', class_='grid-half')\n",
    "    liste_horaires = soup.find_all('div', class_=\"grid-half echeances\")\n",
    "    \n",
    "    if liste_info_journee:\n",
    "        liste_info_journee = liste_info_journee[0].find_all('li')\n",
    "    if liste_horaires:\n",
    "        liste_horaires = liste_horaires[0].find_all('dl')\n",
    "    \n",
    "    res = liste_info_journee + liste_horaires\n",
    "    for i in res:\n",
    "        print(i.get_text().strip())\n",
    "    return res"
   ]
  },
  {
   "cell_type": "code",
   "execution_count": 9,
   "metadata": {},
   "outputs": [
    {
     "name": "stdout",
     "output_type": "stream",
     "text": [
      "Température minimale de la journée : 4.7°C\n",
      "Température maximale de la journée : 22.3°C\n",
      "Durée d'ensoleillement de la journée : 7h\n",
      "Hauteur des précipitations : 0.4mm\n"
     ]
    },
    {
     "data": {
      "text/plain": [
       "[<li>Température minimale de la journée : <strong>4.7°C</strong></li>,\n",
       " <li>Température maximale de la journée : <strong>22.3°C</strong></li>,\n",
       " <li>Durée d'ensoleillement de la journée : <strong>7h</strong></li>,\n",
       " <li>Hauteur des précipitations : <strong>0.4mm</strong></li>]"
      ]
     },
     "execution_count": 9,
     "metadata": {},
     "output_type": "execute_result"
    }
   ],
   "source": [
    "get_meteo('Toulouse', '07-05-2019')"
   ]
  },
  {
   "cell_type": "code",
   "execution_count": null,
   "metadata": {},
   "outputs": [],
   "source": []
  }
 ],
 "metadata": {
  "kernelspec": {
   "display_name": "Python 3",
   "language": "python",
   "name": "python3"
  },
  "language_info": {
   "codemirror_mode": {
    "name": "ipython",
    "version": 3
   },
   "file_extension": ".py",
   "mimetype": "text/x-python",
   "name": "python",
   "nbconvert_exporter": "python",
   "pygments_lexer": "ipython3",
   "version": "3.7.1"
  }
 },
 "nbformat": 4,
 "nbformat_minor": 2
}
