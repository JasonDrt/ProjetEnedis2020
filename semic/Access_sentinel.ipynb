{
 "cells": [
  {
   "cell_type": "markdown",
   "metadata": {},
   "source": [
    "## Chargement de données Sentinel-2"
   ]
  },
  {
   "cell_type": "code",
   "execution_count": null,
   "metadata": {},
   "outputs": [],
   "source": [
    "#pip install sentinelsat"
   ]
  },
  {
   "cell_type": "code",
   "execution_count": 26,
   "metadata": {},
   "outputs": [],
   "source": [
    "from sentinelsat import SentinelAPI, read_geojson, geojson_to_wkt\n",
    "from datetime import date\n",
    "import pandas as pd\n",
    "import numpy as np"
   ]
  },
  {
   "cell_type": "markdown",
   "metadata": {},
   "source": [
    "#### Prise en main et tests de la librairie sentinelsat"
   ]
  },
  {
   "cell_type": "code",
   "execution_count": 76,
   "metadata": {},
   "outputs": [],
   "source": [
    "api = SentinelAPI('mael_l', 'Azertyuiop2106', 'https://scihub.copernicus.eu/dhus')\n",
    "footprint = \"47.47, 0.5000\"\n",
    "products = api.query(footprint,\n",
    "    ('NOW-05DAYS', 'NOW'),\n",
    "    platformname='Sentinel-2',\n",
    "    producttype = 'S2MSI2A',\n",
    "    limit=1)\n",
    "products_df = api.to_dataframe(products)"
   ]
  },
  {
   "cell_type": "code",
   "execution_count": 90,
   "metadata": {
    "scrolled": false
   },
   "outputs": [
    {
     "name": "stderr",
     "output_type": "stream",
     "text": [
      "Downloading: 100%|██████████| 1.02G/1.02G [29:53<00:00, 567kB/s] \n",
      "MD5 checksumming: 100%|██████████| 1.02G/1.02G [00:02<00:00, 440MB/s]\n"
     ]
    },
    {
     "data": {
      "text/plain": [
       "{'id': '5569c8ac-285a-4d1a-a257-aa3618e2ffbd',\n",
       " 'title': 'S2B_MSIL2A_20200505T104619_N0214_R051_T31TCN_20200505T133820',\n",
       " 'size': 1017176312,\n",
       " 'md5': '568BAD8291920330B1D42F6748D1D1FB',\n",
       " 'date': datetime.datetime(2020, 5, 5, 10, 46, 19, 24000),\n",
       " 'footprint': 'POLYGON((0.355496259337275 47.27127252128706,0.362805199924252 47.291529790830346,0.416156293753249 47.437906144098704,0.469719861765729 47.58429632344647,0.523236690182713 47.730738050231615,0.558693432164775 47.82649404356588,1.794354988891076 47.84737115234881,1.816648466915318 46.859583083848264,0.377280362167835 46.835643714163524,0.355496259337275 47.27127252128706))',\n",
       " 'url': \"https://scihub.copernicus.eu/dhus/odata/v1/Products('5569c8ac-285a-4d1a-a257-aa3618e2ffbd')/$value\",\n",
       " 'Online': True,\n",
       " 'Creation Date': datetime.datetime(2020, 5, 5, 21, 47, 5, 776000),\n",
       " 'Ingestion Date': datetime.datetime(2020, 5, 5, 21, 45, 6, 772000),\n",
       " 'path': './S2B_MSIL2A_20200505T104619_N0214_R051_T31TCN_20200505T133820.zip',\n",
       " 'downloaded_bytes': 989913336}"
      ]
     },
     "execution_count": 90,
     "metadata": {},
     "output_type": "execute_result"
    }
   ],
   "source": [
    "api.download(products_df.index[0])"
   ]
  },
  {
   "cell_type": "markdown",
   "metadata": {},
   "source": [
    "#### Fonctions"
   ]
  },
  {
   "cell_type": "code",
   "execution_count": 69,
   "metadata": {},
   "outputs": [],
   "source": [
    "def connect_api(user,pw,link='https://scihub.copernicus.eu/dhus'):\n",
    "    return SentinelAPI(user,pw,link)\n",
    "\n",
    "def get_products(api, footprint, date, platform='Sentinel-2', prd_type='S2MSI2A', \n",
    "                 cloudcover=(0,20), lim=None):\n",
    "    \n",
    "    \"\"\"Entrées : api\n",
    "                 footprint : recherche géographique des produits\n",
    "                 date : tuple de (str ou datetime) ou str\n",
    "                     formats : yyyyMMdd ; yyyy-MM-ddThh:mm:ssZ ; NOW-/+<n>DAY(S)\n",
    "                 platform : Plateforme satellite souhaitée, défaut = Sentinel-2\n",
    "                 prd_type : Type de produits\n",
    "                 cloudcover : Pourcentage de couverture nuageuse, peut être un tuple de int \n",
    "                    désignant un intervalle ou un int\n",
    "                 lim : Nombre limite de produits chargés, défaut = None\n",
    "       Sortie : Pandas Dataframe contenant les informations des produits de la requête\"\"\"\n",
    "    \n",
    "    products = api.query(footprint, date, platformname = platform, limit = lim,\n",
    "                         cloudcoverpercentage = cloudcover, producttype = prd_type)\n",
    "    return(api.to_dataframe(products))\n",
    "def dl_products(api, df_prod):\n",
    "    l = len(df_prod)\n",
    "    print('There are '+l+' files to download.')\n",
    "    for i in range(l):\n",
    "        api.download(products_df.index[i])"
   ]
  },
  {
   "cell_type": "code",
   "execution_count": 72,
   "metadata": {},
   "outputs": [],
   "source": [
    "api = connect_api('mael_l', 'Azertyuiop2106')\n",
    "df_prod = get_products(api, footprint, ('NOW-05DAYS', 'NOW'), platform='Sentinel-2', \n",
    "                       prd_type='S2MSI2A', cloudcover=(0,90), lim=1)"
   ]
  }
 ],
 "metadata": {
  "kernelspec": {
   "display_name": "Python 3",
   "language": "python",
   "name": "python3"
  },
  "language_info": {
   "codemirror_mode": {
    "name": "ipython",
    "version": 3
   },
   "file_extension": ".py",
   "mimetype": "text/x-python",
   "name": "python",
   "nbconvert_exporter": "python",
   "pygments_lexer": "ipython3",
   "version": "3.7.3"
  }
 },
 "nbformat": 4,
 "nbformat_minor": 2
}
